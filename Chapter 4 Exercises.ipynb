{
 "cells": [
  {
   "cell_type": "markdown",
   "id": "c0c9fa50",
   "metadata": {},
   "source": [
    "#Chapter 4 Exercises"
   ]
  },
  {
   "cell_type": "markdown",
   "id": "42d16b86",
   "metadata": {},
   "source": [
    "##Algorithm Workbench Question 1"
   ]
  },
  {
   "cell_type": "code",
   "execution_count": 1,
   "id": "212afe97",
   "metadata": {},
   "outputs": [
    {
     "name": "stdout",
     "output_type": "stream",
     "text": [
      "Enter a number: 25\n",
      "The result is now greater than or equal to 100.\n"
     ]
    }
   ],
   "source": [
    "result = 0  \n",
    "while result < 100:\n",
    "    user_input = float(input(\"Enter a number: \"))  \n",
    "    result = user_input * 10  \n",
    "print(\"The result is now greater than or equal to 100.\")\n"
   ]
  },
  {
   "cell_type": "code",
   "execution_count": 1,
   "id": "8f56f4d5",
   "metadata": {},
   "outputs": [
    {
     "name": "stdout",
     "output_type": "stream",
     "text": [
      "Enter a number: 5\n",
      "Enter a number: 6\n",
      "Enter a number: 15\n",
      "The result is now greater than or equal to 100.\n"
     ]
    }
   ],
   "source": [
    "result = 0  \n",
    "while result < 100:\n",
    "    user_input = float(input(\"Enter a number: \"))  \n",
    "    result = user_input * 10  \n",
    "print(\"The result is now greater than or equal to 100.\")"
   ]
  },
  {
   "cell_type": "markdown",
   "id": "2a1bea56",
   "metadata": {},
   "source": [
    "##Algorithm Workbench Question 3"
   ]
  },
  {
   "cell_type": "code",
   "execution_count": 2,
   "id": "1b1c1bee",
   "metadata": {},
   "outputs": [
    {
     "name": "stdout",
     "output_type": "stream",
     "text": [
      "0, 10, 20, 30, 40, 50, 60, 70, 80, 90, 100, 110, 120, 130, 140, 150, 160, 170, 180, 190, 200, 210, 220, 230, 240, 250, 260, 270, 280, 290, 300, 310, 320, 330, 340, 350, 360, 370, 380, 390, 400, 410, 420, 430, 440, 450, 460, 470, 480, 490, 500, 510, 520, 530, 540, 550, 560, 570, 580, 590, 600, 610, 620, 630, 640, 650, 660, 670, 680, 690, 700, 710, 720, 730, 740, 750, 760, 770, 780, 790, 800, 810, 820, 830, 840, 850, 860, 870, 880, 890, 900, 910, 920, 930, 940, 950, 960, 970, 980, 990, 1000, "
     ]
    }
   ],
   "source": [
    "for number in range(0, 1001, 10):\n",
    "    print(number, end=', ')\n"
   ]
  },
  {
   "cell_type": "markdown",
   "id": "112f0661",
   "metadata": {},
   "source": [
    "#Programming Exercises"
   ]
  },
  {
   "cell_type": "markdown",
   "id": "5f52bb86",
   "metadata": {},
   "source": [
    "##Question 1"
   ]
  },
  {
   "cell_type": "code",
   "execution_count": 3,
   "id": "727c6c2f",
   "metadata": {},
   "outputs": [
    {
     "name": "stdout",
     "output_type": "stream",
     "text": [
      "Enter the number of bugs collected on day 1: 14\n",
      "Enter the number of bugs collected on day 2: 11\n",
      "Enter the number of bugs collected on day 3: 4\n",
      "Enter the number of bugs collected on day 4: 12\n",
      "Enter the number of bugs collected on day 5: 9\n",
      "Total bugs collected over five days: 50\n"
     ]
    }
   ],
   "source": [
    "total_bugs = 0  \n",
    "for day in range(1, 6):  \n",
    "    bugs_collected = int(input(f\"Enter the number of bugs collected on day {day}: \"))\n",
    "    total_bugs += bugs_collected  \n",
    "print(f\"Total bugs collected over five days: {total_bugs}\")\n"
   ]
  },
  {
   "cell_type": "markdown",
   "id": "9c9bf8be",
   "metadata": {},
   "source": [
    "##Question 4"
   ]
  },
  {
   "cell_type": "code",
   "execution_count": 4,
   "id": "96fc351a",
   "metadata": {},
   "outputs": [
    {
     "name": "stdout",
     "output_type": "stream",
     "text": [
      "Enter the speed of the vehicle (in miles per hour): 40\n",
      "Enter the number of hours traveled: 3\n",
      "Hour 1 = 40.0 miles traveled\n",
      "Hour 2 = 80.0 miles traveled\n",
      "Hour 3 = 120.0 miles traveled\n"
     ]
    }
   ],
   "source": [
    "speed = float(input(\"Enter the speed of the vehicle (in miles per hour): \"))\n",
    "hours = int(input(\"Enter the number of hours traveled: \"))\n",
    "hour = 1\n",
    "distance_traveled = 0\n",
    "while hour <= hours:\n",
    "    distance_traveled = speed * hour\n",
    "    print(f\"Hour {hour} = {distance_traveled} miles traveled\")\n",
    "    hour += 1\n"
   ]
  },
  {
   "cell_type": "markdown",
   "id": "b0187ad2",
   "metadata": {},
   "source": [
    "##Question 11"
   ]
  },
  {
   "cell_type": "code",
   "execution_count": 5,
   "id": "721d97fa",
   "metadata": {},
   "outputs": [
    {
     "name": "stdout",
     "output_type": "stream",
     "text": [
      "Enter your starting weight (in pounds): 205\n",
      "Month\tExpected Weight (lbs)\n",
      "1\t200.71 lbs\n",
      "2\t196.43 lbs\n",
      "3\t192.14 lbs\n",
      "4\t187.86 lbs\n",
      "5\t183.57 lbs\n",
      "6\t179.29 lbs\n"
     ]
    }
   ],
   "source": [
    "starting_weight = float(input(\"Enter your starting weight (in pounds): \"))\n",
    "calories_per_pound = 3500\n",
    "calorie_deficit_per_day = 500\n",
    "current_weight = starting_weight\n",
    "print(\"Month\\tExpected Weight (lbs)\")\n",
    "for month in range(1, 7):\n",
    "    weight_loss = (calorie_deficit_per_day * 30) / calories_per_pound\n",
    "    current_weight -= weight_loss\n",
    "    print(f\"{month}\\t{current_weight:.2f} lbs\")\n"
   ]
  },
  {
   "cell_type": "markdown",
   "id": "ea5c680b",
   "metadata": {},
   "source": [
    "##Question 14"
   ]
  },
  {
   "cell_type": "code",
   "execution_count": 6,
   "id": "14ef2c1d",
   "metadata": {},
   "outputs": [
    {
     "name": "stdout",
     "output_type": "stream",
     "text": [
      "* * * * * * * \n",
      "* * * * * * \n",
      "* * * * * \n",
      "* * * * \n",
      "* * * \n",
      "* * \n",
      "* \n"
     ]
    }
   ],
   "source": [
    "\n",
    "rows = 7  \n",
    "\n",
    "for i in range(rows, 0, -1):\n",
    "    for j in range(i):\n",
    "        print(\"* \", end=\"\")\n",
    "    print()  \n"
   ]
  },
  {
   "cell_type": "code",
   "execution_count": null,
   "id": "bd123eeb",
   "metadata": {},
   "outputs": [],
   "source": []
  }
 ],
 "metadata": {
  "kernelspec": {
   "display_name": "Python 3 (ipykernel)",
   "language": "python",
   "name": "python3"
  },
  "language_info": {
   "codemirror_mode": {
    "name": "ipython",
    "version": 3
   },
   "file_extension": ".py",
   "mimetype": "text/x-python",
   "name": "python",
   "nbconvert_exporter": "python",
   "pygments_lexer": "ipython3",
   "version": "3.11.4"
  }
 },
 "nbformat": 4,
 "nbformat_minor": 5
}
